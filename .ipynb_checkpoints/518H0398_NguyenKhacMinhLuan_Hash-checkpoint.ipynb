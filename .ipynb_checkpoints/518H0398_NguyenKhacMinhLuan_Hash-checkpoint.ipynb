{
 "cells": [
  {
   "cell_type": "code",
   "execution_count": 14,
   "metadata": {},
   "outputs": [],
   "source": [
    "from pandas import read_csv\n",
    "class HashTable1():  \n",
    "    def __init__(self,size):\n",
    "        self.MAX = 10\n",
    "        self.len = len\n",
    "        self.size = size\n",
    "        self.arr = [[] for i in range(self.MAX)]\n",
    "        \n",
    "    def get_hash(self, key):\n",
    "        hash = 0\n",
    "        for char in key:\n",
    "            hash += ord(char)\n",
    "        return hash % self.MAX\n",
    "    \n",
    "    def __getitem__(self, key):\n",
    "        arr_index = self.get_hash(key)\n",
    "        for kv in self.arr[arr_index]:\n",
    "            if kv[0] == key:\n",
    "                print(f'Nghĩa của từ {kv[0]}: ')\n",
    "                return kv[1]  \n",
    "    \n",
    "    def __setitem__(self, key, val):\n",
    "        h = self.get_hash(key)\n",
    "        found = False\n",
    "        for idx, element in enumerate(self.arr[h]):\n",
    "            if len(element)==2 and element[0] == key:\n",
    "                self.arr[h][idx] = (key,val)\n",
    "                found = True\n",
    "        if not found:\n",
    "            self.arr[h].append((key,val))\n",
    "        \n",
    "    def __delitem__(self, key):\n",
    "        arr_index = self.get_hash(key)\n",
    "        for index, kv in enumerate(self.arr[arr_index]):\n",
    "            if kv[0] == key:\n",
    "                print(\"del\",index)\n",
    "                del self.arr[arr_index][index]\n",
    "                \n",
    "dictionary = HashTable1(1000)\n",
    "df = read_csv('MinhLuan.txt',delimiter=':')\n",
    "data = df.values\n",
    "for row in data:\n",
    "    WORD, MEANING = row[0], row[1]\n",
    "    dictionary.__setitem__(WORD, MEANING)"
   ]
  },
  {
   "cell_type": "code",
   "execution_count": 15,
   "metadata": {},
   "outputs": [
    {
     "name": "stdout",
     "output_type": "stream",
     "text": [
      "[['crack' '       bẻ']\n",
      " ['run' '         chạy']\n",
      " ['house' '       nhà']\n",
      " ['plus' '        cộng']\n",
      " ['note' '        ghi chú']\n",
      " ['beach' '       bãi biển']\n",
      " ['computer' '    máy tính']\n",
      " ['encourage' '   khuyến khích']\n",
      " ['stupid' '      ngốc nghếch']\n",
      " ['crazy' '       điên']\n",
      " ['smart' '       thông minh']\n",
      " ['car' '         ô tô']\n",
      " ['train' '       tàu hỏa']\n",
      " ['sex' '         giới tính']\n",
      " ['school' '      trường học']\n",
      " ['road' '        đường']\n",
      " ['access' '      truy cập']\n",
      " ['benefit' '     thuận lợi']\n",
      " ['brazen' '      ngang ngược']\n",
      " ['define' '      định nghĩa']\n",
      " ['data' '        số liệu']\n",
      " ['involve' '     bao hàm']\n",
      " ['loyalty' '     trung thành']\n",
      " ['major' '       chuyên ngành']\n",
      " ['role' '        vai trò']\n",
      " ['similar' '     tương tự như nhau']\n",
      " ['source' '      nguồn gốc']\n",
      " ['structure' '   cấu trúc']\n",
      " ['achieve' '     thành tựu']\n",
      " ['category' '    hạng,loại']\n",
      " ['chapter' '     đề tài']\n",
      " ['compute' '     tính toán']\n",
      " ['survey' '      khảo sát']\n",
      " ['text' '        văn bản']\n",
      " ['tradition' '   truyền thống']\n",
      " ['conceivable' ' hình dung được']\n",
      " ['core' '        cốt lõi']\n",
      " ['demonstrate' ' chứng minh']\n",
      " ['drawback' '    bất lợi, điểm yếu']\n",
      " ['dump' '        vứt bỏ, thải ra']\n",
      " ['ensure' '      bảo đảm']\n",
      " ['illustrate' '  minh họa']\n",
      " ['initial' '     ban đầu']\n",
      " ['layer' '       tầng lớp']\n",
      " ['overall' '     tổng quan']\n",
      " ['parameter' '   tham số']\n",
      " ['phase' '       giai đoạn']\n",
      " ['image' '       hình dung']\n",
      " ['network' '     mạng lưới(điện tử)']\n",
      " ['reject' '      loại bỏ']\n",
      " ['color' '       màu']]\n"
     ]
    }
   ],
   "source": [
    "print(data)"
   ]
  },
  {
   "cell_type": "code",
   "execution_count": 16,
   "metadata": {},
   "outputs": [
    {
     "name": "stdout",
     "output_type": "stream",
     "text": [
      "Length of data:  51\n",
      "Size of data:  1000\n",
      "['crack', 'run', 'house', 'plus', 'note', 'beach', 'computer', 'encourage', 'stupid', 'crazy', 'smart', 'car', 'train', 'sex', 'school', 'road', 'access', 'benefit', 'brazen', 'define', 'data', 'involve', 'loyalty', 'major', 'role', 'similar', 'source', 'structure', 'achieve', 'category', 'chapter', 'compute', 'survey', 'text', 'tradition', 'conceivable', 'core', 'demonstrate', 'drawback', 'dump', 'ensure', 'illustrate', 'initial', 'layer', 'overall', 'parameter', 'phase', 'image', 'network', 'reject', 'color']\n",
      "train\n"
     ]
    }
   ],
   "source": [
    "print('Length of data: ',dictionary.len(data))\n",
    "print('Size of data: ',dictionary.size)\n",
    "clone =[]\n",
    "for row in data:\n",
    "    clone.append(row[0])\n",
    "    #print(row[0])\n",
    "print(clone)\n",
    "print(max(clone))"
   ]
  },
  {
   "cell_type": "code",
   "execution_count": 17,
   "metadata": {},
   "outputs": [],
   "source": [
    "def Search_Word():\n",
    "    while True:\n",
    "        print(dictionary.__getitem__(input(str('Enter the word you want search: '))))\n",
    "        option = input('Do you want to continue searching ? Chose YES or NO ')\n",
    "        if option == 'NO':\n",
    "            print('Thanks for used')\n",
    "            break"
   ]
  },
  {
   "cell_type": "code",
   "execution_count": 18,
   "metadata": {},
   "outputs": [],
   "source": [
    "def Add_Word():\n",
    "    while True:\n",
    "        add = input(str(\"Enter the word you want add: \"))\n",
    "        dictionary.__setitem__(add,input(str(f\"Enter the mean word {add}: \")))\n",
    "        print(dictionary.__getitem__(input(str())))\n",
    "        option = input('Do you want to add new word ? Chose YES or NO ')\n",
    "        if option == 'NO':\n",
    "            print('Thanks for used')\n",
    "            break"
   ]
  },
  {
   "cell_type": "code",
   "execution_count": 19,
   "metadata": {},
   "outputs": [],
   "source": [
    "def Delete_Word():\n",
    "    while True:\n",
    "        delete = input(str('Enter the word you want delete: '))\n",
    "        dictionary.__delitem__(delete)\n",
    "        print(f'Check the word {delete} : ')\n",
    "        print(dictionary.__getitem__(input(str(\"Enter the word for checking: \"))))\n",
    "        option = input('Do you want to continue searching ? Chose YES or NO')\n",
    "        if option == 'NO':\n",
    "            print('Thanks for used')\n",
    "            break   "
   ]
  },
  {
   "cell_type": "code",
   "execution_count": 20,
   "metadata": {},
   "outputs": [],
   "source": [
    "def Hash():\n",
    "      while True:\n",
    "        print(dictionary.get_hash(input(str(\"Enter the word you want find Hash: \"))))\n",
    "        option = input('Do you want to continue searching ? Chose YES or NO ')\n",
    "        if option == 'NO':\n",
    "            print('Thanks for used')\n",
    "            break   "
   ]
  },
  {
   "cell_type": "code",
   "execution_count": 21,
   "metadata": {},
   "outputs": [
    {
     "name": "stdout",
     "output_type": "stream",
     "text": [
      "Menu of dictionary: \n",
      "1: Search\n",
      "2: Add new word\n",
      "3: Delete word\n",
      "4: Find Hash values\n",
      "5: Exit program\n",
      "Enter a option: 1\n",
      "Enter the word you want search: house\n",
      "Nghĩa của từ house: \n",
      "       nhà\n",
      "Do you want to continue searching ? Chose YES or NO NO\n",
      "Thanks for used\n",
      "Enter a option: 2\n",
      "Enter the word you want add: table\n",
      "Enter the mean word table: cái bàn\n",
      "table\n",
      "Nghĩa của từ table: \n",
      "cái bàn\n",
      "Do you want to add new word ? Chose YES or NO NO\n",
      "Thanks for used\n",
      "Enter a option: 3\n",
      "Enter the word you want delete: table\n",
      "del 3\n",
      "Check the word table : \n",
      "Enter the word for checking: table\n",
      "None\n",
      "Do you want to continue searching ? Chose YES or NONO\n",
      "Thanks for used\n",
      "Enter a option: 5\n",
      "End the program\n"
     ]
    }
   ],
   "source": [
    "print(\"Menu of dictionary: \")\n",
    "print(\"1: Search\")\n",
    "print(\"2: Add new word\")\n",
    "print(\"3: Delete word\")\n",
    "print(\"4: Find Hash values\")\n",
    "print(\"5: Exit program\")\n",
    "i = 0\n",
    "while i==0:\n",
    "    i = int(input(\"Enter a option: \"))\n",
    "    if i == 1:\n",
    "        Search_Word()\n",
    "        i = 0\n",
    "    if i == 2:\n",
    "        Add_Word()\n",
    "        i = 0\n",
    "    if i == 3: \n",
    "        Delete_Word()\n",
    "        i = 0 \n",
    "    if i == 4:\n",
    "        Hash()\n",
    "        i = 0\n",
    "    if i == 5:\n",
    "        print('End the program')\n",
    "        break"
   ]
  },
  {
   "cell_type": "code",
   "execution_count": null,
   "metadata": {},
   "outputs": [],
   "source": []
  },
  {
   "cell_type": "code",
   "execution_count": null,
   "metadata": {},
   "outputs": [],
   "source": []
  }
 ],
 "metadata": {
  "kernelspec": {
   "display_name": "Python 3",
   "language": "python",
   "name": "python3"
  },
  "language_info": {
   "codemirror_mode": {
    "name": "ipython",
    "version": 3
   },
   "file_extension": ".py",
   "mimetype": "text/x-python",
   "name": "python",
   "nbconvert_exporter": "python",
   "pygments_lexer": "ipython3",
   "version": "3.8.3"
  }
 },
 "nbformat": 4,
 "nbformat_minor": 1
}
