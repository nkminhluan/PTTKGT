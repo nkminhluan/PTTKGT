{
 "cells": [
  {
   "cell_type": "code",
   "execution_count": null,
   "metadata": {
    "scrolled": true
   },
   "outputs": [],
   "source": []
  },
  {
   "cell_type": "code",
   "execution_count": 1,
   "metadata": {},
   "outputs": [
    {
     "name": "stdout",
     "output_type": "stream",
     "text": [
      "crack:       bẻ\n",
      "run:         chạy\n",
      "house:       nhà\n",
      "plus:        cộng\n",
      "note:        ghi chú\n",
      "beach:       bãi biển\n",
      "computer:    máy tính\n",
      "encourage:   khuyến khích\n",
      "stupid:      ngốc nghếch\n",
      "crazy:       điên\n",
      "smart:       thông minh\n",
      "car:         ô tô\n",
      "train:       tàu hỏa\n",
      "sex:         giới tính\n",
      "school:      trường học\n",
      "road:        đường\n",
      "access:      truy cập\n",
      "benefit:     thuận lợi\n",
      "brazen:      ngang ngược\n",
      "define:      định nghĩa\n",
      "data:        số liệu\n",
      "involve:     bao hàm\n",
      "loyalty:     trung thành\n",
      "major:       chuyên ngành\n",
      "role:        vai trò\n",
      "similar:     tương tự như nhau\n",
      "source:      nguồn gốc\n",
      "structure:   cấu trúc\n",
      "achieve:     thành tựu\n",
      "category:    hạng,loại\n",
      "chapter:     đề tài\n",
      "compute:     tính toán\n",
      "survey:      khảo sát\n",
      "text:        văn bản\n",
      "tradition:   truyền thống\n",
      "conceivable: hình dung được\n",
      "core:        cốt lõi\n",
      "demonstrate: chứng minh\n",
      "drawback:    bất lợi, điểm yếu\n",
      "dump:        vứt bỏ, thải ra\n",
      "ensure:      bảo đảm\n",
      "illustrate:  minh họa\n",
      "initial:     ban đầu\n",
      "layer:       tầng lớp\n",
      "overall:     tổng quan\n",
      "parameter:   tham số\n",
      "phase:       giai đoạn\n",
      "image:       hình dung\n",
      "network:     mạng lưới(điện tử)\n",
      "reject:      loại bỏ\n",
      "color:       màu\n"
     ]
    }
   ],
   "source": [
    "import pandas as pd\n",
    "import csv\n",
    "class TreeNode(object):\n",
    "    def __init__(self, key, value):\n",
    "        self.key = key\n",
    "        self.value = value\n",
    "        self.left = None\n",
    "        self.right = None\n",
    "        self.height = 1\n",
    "\n",
    "\n",
    "class AVLTree(object):\n",
    "    def find(self, root, key):\n",
    "        if not root:\n",
    "            return 'Empty'\n",
    "        elif key < root.key:\n",
    "            return self.find(root.left, key)\n",
    "        elif key > root.key:\n",
    "            return self.find(root.right, key)\n",
    "        else:\n",
    "            return root.value\n",
    "    def change(self,root, key, value):\n",
    "        if not root:\n",
    "            return 'Not found'\n",
    "        elif key < root.key:\n",
    "            self.change(root.left, key, value)\n",
    "        elif key > root.key:\n",
    "            self.change(root.right, key, value)\n",
    "        else:\n",
    "            root.value = value\n",
    "    # Function to insert a node\n",
    "    def insert_node(self, root, key, value):\n",
    "\n",
    "        # Find the correct location and insert the node\n",
    "        if not root:\n",
    "            return TreeNode(key, value)\n",
    "        elif key < root.key:\n",
    "            root.left = self.insert_node(root.left, key, value)\n",
    "        else:\n",
    "            root.right = self.insert_node(root.right, key, value)\n",
    "\n",
    "        root.height = 1 + max(self.getHeight(root.left),\n",
    "                              self.getHeight(root.right))\n",
    "\n",
    "        # Update the balance factor and balance the tree\n",
    "        balanceFactor = self.getBalance(root)\n",
    "        if balanceFactor > 1:\n",
    "            if key < root.left.key:\n",
    "                return self.rightRotate(root)\n",
    "            else:\n",
    "                root.left = self.leftRotate(root.left)\n",
    "                return self.rightRotate(root)\n",
    "\n",
    "        if balanceFactor < -1:\n",
    "            if key > root.right.key:\n",
    "                return self.leftRotate(root)\n",
    "            else:\n",
    "                root.right = self.rightRotate(root.right)\n",
    "                return self.leftRotate(root)\n",
    "\n",
    "        return root\n",
    "\n",
    "    # Function to delete a node\n",
    "    def delete_node(self, root, key):\n",
    "\n",
    "        # Find the node to be deleted and remove it\n",
    "        if not root:\n",
    "            return root\n",
    "        elif key < root.key:\n",
    "            root.left = self.delete_node(root.left, key)\n",
    "        elif key > root.key:\n",
    "            root.right = self.delete_node(root.right, key)\n",
    "        else:\n",
    "            if root.left is None:\n",
    "                temp = root.right\n",
    "                return temp\n",
    "            elif root.right is None:\n",
    "                temp = root.left\n",
    "                return temp\n",
    "            temp = self.getMinValueNode(root.right)\n",
    "            root.key = temp.key\n",
    "            root.right = self.delete_node(root.right,\n",
    "                                          temp.key)\n",
    "        if root is None:\n",
    "            return root\n",
    "\n",
    "        # Update the balance factor of nodes\n",
    "        root.height = 1 + max(self.getHeight(root.left),\n",
    "                              self.getHeight(root.right))\n",
    "\n",
    "        balanceFactor = self.getBalance(root)\n",
    "\n",
    "        # Balance the tree\n",
    "        if balanceFactor > 1:\n",
    "            if self.getBalance(root.left) >= 0:\n",
    "                return self.rightRotate(root)\n",
    "            else:\n",
    "                root.left = self.leftRotate(root.left)\n",
    "                return self.rightRotate(root)\n",
    "        if balanceFactor < -1:\n",
    "            if self.getBalance(root.right) <= 0:\n",
    "                return self.leftRotate(root)\n",
    "            else:\n",
    "                root.right = self.rightRotate(root.right)\n",
    "                return self.leftRotate(root)\n",
    "        return root\n",
    "\n",
    "    # Function to perform left rotation\n",
    "    def leftRotate(self, z):\n",
    "        y = z.right\n",
    "        T2 = y.left\n",
    "        y.left = z\n",
    "        z.right = T2\n",
    "        z.height = 1 + max(self.getHeight(z.left),\n",
    "                           self.getHeight(z.right))\n",
    "        y.height = 1 + max(self.getHeight(y.left),\n",
    "                           self.getHeight(y.right))\n",
    "        return y\n",
    "\n",
    "    # Function to perform right rotation\n",
    "    def rightRotate(self, z):\n",
    "        y = z.left\n",
    "        T3 = y.right\n",
    "        y.right = z\n",
    "        z.left = T3\n",
    "        z.height = 1 + max(self.getHeight(z.left),\n",
    "                           self.getHeight(z.right))\n",
    "        y.height = 1 + max(self.getHeight(y.left),\n",
    "                           self.getHeight(y.right))\n",
    "        return y\n",
    "\n",
    "    def getHeight(self, root):\n",
    "        if not root:\n",
    "            return 0\n",
    "        return root.height\n",
    "\n",
    "    def getBalance(self, root):\n",
    "        if not root:\n",
    "            return 0\n",
    "        return self.getHeight(root.left) - self.getHeight(root.right)\n",
    "\n",
    "    def getMinValueNode(self, root):\n",
    "        if root is None or root.left is None:\n",
    "            return root\n",
    "        return self.getMinValueNode(root.left)\n",
    "\n",
    "    def preOrder(self, root):\n",
    "        if not root:\n",
    "            return\n",
    "        print(\"{0} \".format(root.key), end=\"\\n\")\n",
    "        self.preOrder(root.left)\n",
    "        self.preOrder(root.right)\n",
    "\n",
    "\n",
    "\n",
    "myTree = AVLTree()\n",
    "root = None\n",
    "df = pd.read_csv ('Book1.txt',delimiter =\":\")\n",
    "data = df.values\n",
    "for num in data:\n",
    "    root = myTree.insert_node(root, num[0], num[1])\n",
    "    print(num[0] + \":\" + num[1])"
   ]
  },
  {
   "cell_type": "code",
   "execution_count": 5,
   "metadata": {
    "pycharm": {
     "name": "#%%\n"
    }
   },
   "outputs": [
    {
     "name": "stdout",
     "output_type": "stream",
     "text": [
      "me \n",
      "father \n",
      "child \n",
      "business \n",
      "apartment \n",
      "case \n",
      "country \n",
      "company \n",
      "day \n",
      "hand \n",
      "government \n",
      "friend \n",
      "game \n",
      "group \n",
      "issue \n",
      "hour \n",
      "head \n",
      "house \n",
      "life \n",
      "kind \n",
      "man \n",
      "school \n",
      "people \n",
      "number \n",
      "mother \n",
      "money \n",
      "night \n",
      "part \n",
      "problem \n",
      "point \n",
      "place \n",
      "power \n",
      "question \n",
      "program \n",
      "room \n",
      "time \n",
      "student \n",
      "side \n",
      "service \n",
      "state \n",
      "thing \n",
      "system \n",
      "woman \n",
      "way \n",
      "water \n",
      "week \n",
      "world \n",
      "work \n",
      "year \n"
     ]
    }
   ],
   "source": [
    "myTree.preOrder(root)\n"
   ]
  },
  {
   "cell_type": "code",
   "execution_count": 6,
   "metadata": {
    "pycharm": {
     "name": "#%%\n"
    }
   },
   "outputs": [
    {
     "name": "stdout",
     "output_type": "stream",
     "text": [
      "thế giới\n"
     ]
    }
   ],
   "source": [
    "print(myTree.find(root, 'world'))\n"
   ]
  },
  {
   "cell_type": "code",
   "execution_count": 26,
   "metadata": {
    "pycharm": {
     "name": "#%%\n"
    }
   },
   "outputs": [],
   "source": [
    "myTree.change(root, 'father', 'cha')\n"
   ]
  },
  {
   "cell_type": "code",
   "execution_count": 3,
   "metadata": {
    "pycharm": {
     "name": "#%%\n"
    }
   },
   "outputs": [
    {
     "data": {
      "text/plain": [
       "<__main__.TreeNode at 0x205544f2a30>"
      ]
     },
     "execution_count": 3,
     "metadata": {},
     "output_type": "execute_result"
    }
   ],
   "source": [
    "myTree.delete_node(root, 'family')\n"
   ]
  },
  {
   "cell_type": "code",
   "execution_count": 4,
   "metadata": {
    "pycharm": {
     "name": "#%%\n"
    }
   },
   "outputs": [
    {
     "name": "stdout",
     "output_type": "stream",
     "text": [
      "me \n",
      "father \n",
      "child \n",
      "business \n",
      "apartment \n",
      "case \n",
      "country \n",
      "company \n",
      "day \n",
      "hand \n",
      "government \n",
      "friend \n",
      "game \n",
      "group \n",
      "issue \n",
      "hour \n",
      "head \n",
      "house \n",
      "life \n",
      "kind \n",
      "man \n",
      "school \n",
      "people \n",
      "number \n",
      "mother \n",
      "money \n",
      "night \n",
      "part \n",
      "problem \n",
      "point \n",
      "place \n",
      "power \n",
      "question \n",
      "program \n",
      "room \n",
      "time \n",
      "student \n",
      "side \n",
      "service \n",
      "state \n",
      "thing \n",
      "system \n",
      "woman \n",
      "way \n",
      "water \n",
      "week \n",
      "world \n",
      "work \n",
      "year \n"
     ]
    }
   ],
   "source": [
    "myTree.preOrder(root)\n"
   ]
  },
  {
   "cell_type": "code",
   "execution_count": null,
   "metadata": {},
   "outputs": [],
   "source": []
  }
 ],
 "metadata": {
  "kernelspec": {
   "display_name": "Python 3",
   "language": "python",
   "name": "python3"
  },
  "language_info": {
   "codemirror_mode": {
    "name": "ipython",
    "version": 3
   },
   "file_extension": ".py",
   "mimetype": "text/x-python",
   "name": "python",
   "nbconvert_exporter": "python",
   "pygments_lexer": "ipython3",
   "version": "3.8.3"
  }
 },
 "nbformat": 4,
 "nbformat_minor": 1
}
