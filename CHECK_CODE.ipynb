{
 "cells": [
  {
   "cell_type": "code",
   "execution_count": 2,
   "metadata": {},
   "outputs": [
    {
     "name": "stdout",
     "output_type": "stream",
     "text": [
      "LCS of [main point.Details about] and [The main point of this passage is that problems within the family are as bad as, if not worse than, problems caused by the federal government. Details about this betrayal include someone close turning informant, a hit being put out on Tony by family members, and Tony’s kids tracking his activities. As you can see, the main idea and important details are included in the paraphrased version, though the wording is quite different.] is main point.Details about\n",
      "The Proportion of the sub string is: 5.57 %\n"
     ]
    }
   ],
   "source": [
    "def lcs(X, Y, m, n): \n",
    "    L = [[0 for x in range(n+1)] for x in range(m+1)] \n",
    "    for i in range(m+1): \n",
    "        for j in range(n+1): \n",
    "            if i == 0 or j == 0: \n",
    "                L[i][j] = 0\n",
    "            elif X[i-1] == Y[j-1]: \n",
    "                L[i][j] = L[i-1][j-1] + 1\n",
    "            else: \n",
    "                L[i][j] = max(L[i-1][j], L[i][j-1]) \n",
    "    index = L[m][n] \n",
    "    lcs = [\"\"] * (index+1) \n",
    "    lcs[index] = \"\" \n",
    "    i = m \n",
    "    j = n  \n",
    "    while i > 0 and j > 0: \n",
    "        if X[i-1] == Y[j-1]: \n",
    "            lcs[index-1] = X[i-1] \n",
    "            i-=1\n",
    "            j-=1\n",
    "            index-=1\n",
    "        elif L[i-1][j] > L[i][j-1]: \n",
    "            i-=1\n",
    "        else: \n",
    "            j-=1\n",
    "\n",
    "    print(\"LCS of \" + \"[\" + X + \"]\" + \" and \" + \"[\" + Y + \"]\" + \" is \" + ''.join(lcs)  )\n",
    "  \n",
    "f1 = open(\"1-1000.txt\")\n",
    "f2 = open(\"baicualoc.txt\")\n",
    "X = f2.read()\n",
    "Y = f1.read()\n",
    "m = len(X) \n",
    "n = len(Y) \n",
    "lcs(X, Y, m, n)\n",
    "a = (m*100)/n\n",
    "print(\"The Proportion of the sub string is:\", \"{:.2f}\".format(a),\"%\")"
   ]
  },
  {
   "cell_type": "code",
   "execution_count": null,
   "metadata": {},
   "outputs": [],
   "source": []
  },
  {
   "cell_type": "code",
   "execution_count": null,
   "metadata": {},
   "outputs": [],
   "source": []
  },
  {
   "cell_type": "code",
   "execution_count": null,
   "metadata": {},
   "outputs": [],
   "source": []
  },
  {
   "cell_type": "code",
   "execution_count": null,
   "metadata": {},
   "outputs": [],
   "source": []
  },
  {
   "cell_type": "code",
   "execution_count": null,
   "metadata": {},
   "outputs": [],
   "source": []
  }
 ],
 "metadata": {
  "kernelspec": {
   "display_name": "Python 3",
   "language": "python",
   "name": "python3"
  },
  "language_info": {
   "codemirror_mode": {
    "name": "ipython",
    "version": 3
   },
   "file_extension": ".py",
   "mimetype": "text/x-python",
   "name": "python",
   "nbconvert_exporter": "python",
   "pygments_lexer": "ipython3",
   "version": "3.8.3"
  }
 },
 "nbformat": 4,
 "nbformat_minor": 4
}
